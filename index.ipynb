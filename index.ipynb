{
 "cells": [
  {
   "cell_type": "markdown",
   "metadata": {},
   "source": [
    "# Block Header Download\n",
    "\n",
    "## Try it"
   ]
  },
  {
   "cell_type": "code",
   "execution_count": null,
   "metadata": {},
   "outputs": [],
   "source": [
    "# Block Header Download Example\n",
    "\n",
    "from network import GetHeadersMessage, HeadersMessage, SimpleNode\n",
    "\n",
    "node = SimpleNode('btc.programmingblockchain.com', testnet=False)\n",
    "node.handshake()\n",
    "last_block_hash = GENESIS_BLOCK_HASH\n",
    "count = 1\n",
    "for _ in range(20):\n",
    "    getheaders = GetHeadersMessage(start_block=last_block_hash)\n",
    "    node.send(getheaders.command, getheaders.serialize())\n",
    "    headers_envelope = node.wait_for_commands([b'headers'])\n",
    "    headers_message = HeadersMessage.parse(headers_envelope.stream())\n",
    "    for b in headers_message.blocks:\n",
    "        if not b.check_pow():\n",
    "            raise RuntimeError('bad proof of work at block {}'.format(count))\n",
    "        if last_block_hash != GENESIS_BLOCK_HASH and b.prev_block != last_block_hash:\n",
    "            raise RuntimeError('discontinuous block at {}'.format(count))\n",
    "        count += 1\n",
    "        last_block_hash = b.hash()\n",
    "        if count % 2016 == 0:\n",
    "            print(b.id())"
   ]
  }
 ],
 "metadata": {
  "kernelspec": {
   "display_name": "Python 3",
   "language": "python",
   "name": "python3"
  },
  "language_info": {
   "codemirror_mode": {
    "name": "ipython",
    "version": 3
   },
   "file_extension": ".py",
   "mimetype": "text/x-python",
   "name": "python",
   "nbconvert_exporter": "python",
   "pygments_lexer": "ipython3",
   "version": "3.6.6"
  }
 },
 "nbformat": 4,
 "nbformat_minor": 2
}
